{
  "nbformat": 4,
  "nbformat_minor": 0,
  "metadata": {
    "colab": {
      "provenance": []
    },
    "kernelspec": {
      "name": "python3",
      "display_name": "Python 3"
    },
    "language_info": {
      "name": "python"
    }
  },
  "cells": [
    {
      "cell_type": "markdown",
      "source": [
        "# Buscador de accesos"
      ],
      "metadata": {
        "id": "2RrPXtJ92o52"
      }
    },
    {
      "cell_type": "markdown",
      "source": [
        "## Importación de librerías"
      ],
      "metadata": {
        "id": "M7bKACYM2rzl"
      }
    },
    {
      "cell_type": "code",
      "execution_count": 119,
      "metadata": {
        "id": "TeqhOced10ja"
      },
      "outputs": [],
      "source": [
        "import openpyxl"
      ]
    },
    {
      "cell_type": "markdown",
      "source": [
        "## Lectura de datos"
      ],
      "metadata": {
        "id": "dIRy-49P2uD7"
      }
    },
    {
      "cell_type": "markdown",
      "source": [
        "Abrimos libro \"Orgánica\" y entramos a la hoja activa, \"Informe\"."
      ],
      "metadata": {
        "id": "c7bww2odzriP"
      }
    },
    {
      "cell_type": "code",
      "source": [
        "wb_o = openpyxl.load_workbook(\"organica.xlsx\")\n",
        "ws_o = wb_o.active"
      ],
      "metadata": {
        "id": "hI-_bw232n5C"
      },
      "execution_count": 2,
      "outputs": []
    },
    {
      "cell_type": "markdown",
      "source": [
        "Creamos un diccionario desde los headers hacia sus respectivas columnas."
      ],
      "metadata": {
        "id": "OZ00CwrBzxWi"
      }
    },
    {
      "cell_type": "code",
      "source": [
        "organica_c = {}\n",
        "for cell in ws_o[1]:\n",
        "  if cell.value != None:\n",
        "    organica_c[cell.value] = cell.column_letter"
      ],
      "metadata": {
        "id": "bePxeF5kv8f8"
      },
      "execution_count": 23,
      "outputs": []
    },
    {
      "cell_type": "markdown",
      "source": [
        "Creamos un diccionario desde el RUT de cada persona hacia su respectiva concatenación de \"UR\" y \"Cargo\"."
      ],
      "metadata": {
        "id": "wlOHAjqA0APN"
      }
    },
    {
      "cell_type": "code",
      "source": [
        "rut_dict = {}\n",
        "for i in range(2,ws_o.max_row):\n",
        "  rut = ws_o[f\"{organica_c['RUT']}{i}\"]\n",
        "  ur = ws_o[f\"{organica_c['UR']}{i}\"]\n",
        "  cargo = ws_o[f\"{organica_c['Cargo']}{i}\"]\n",
        "  rut_dict[rut.value] = f\"{ur.value}-{cargo.value}\""
      ],
      "metadata": {
        "id": "itHYMIs22juj"
      },
      "execution_count": 51,
      "outputs": []
    },
    {
      "cell_type": "markdown",
      "source": [
        "Abrimos el catálogo y guardamos sus respectivas hojas en variables distintas."
      ],
      "metadata": {
        "id": "--AgOKXcBvqJ"
      }
    },
    {
      "cell_type": "code",
      "source": [
        "wb_c = openpyxl.load_workbook(\"catalogo.xlsx\")\n",
        "ws_c_1 = wb_c['Sucursales']\n",
        "ws_c_2 = wb_c['Serv.Centrales']\n",
        "ws_c_3 = wb_c['Contac Center']"
      ],
      "metadata": {
        "id": "D2MSbIM1-FtH"
      },
      "execution_count": 31,
      "outputs": []
    },
    {
      "cell_type": "markdown",
      "source": [
        "Creamos un diccionario desde los headers hacia sus respectivas columnas."
      ],
      "metadata": {
        "id": "1wSdizD_B0ie"
      }
    },
    {
      "cell_type": "code",
      "source": [
        "catalogo_c = {}\n",
        "for cell in ws_c_1[1]:\n",
        "  if cell.value != None:\n",
        "    catalogo_c[cell.value] = cell.column_letter"
      ],
      "metadata": {
        "id": "Jpyk7DtA1bdI"
      },
      "execution_count": 32,
      "outputs": []
    },
    {
      "cell_type": "markdown",
      "source": [
        "Función que para cada hoja del catálogo guarda los resultados de cada concatenación de la forma:\n",
        "\n",
        "\n",
        "```\n",
        "# Concatenación: {Rol 1: [{Aplicacion: App1, Perfil: Perfil1},\n",
        "                          ...,\n",
        "                          {Aplicacion: Appn, Perfil: Perfiln}],\n",
        "                  ...,\n",
        "                  Rol n: [{Aplicacion: App1, Perfil: Perfil1},\n",
        "                          ...,\n",
        "                          {Aplicacion: Appn, Perfil: Perfiln}]}\n",
        "\n",
        "```\n",
        "\n"
      ],
      "metadata": {
        "id": "llbvOwArB3j1"
      }
    },
    {
      "cell_type": "code",
      "source": [
        "def make_concat_dict(concat_dict, ws):\n",
        "  for i in range(2,ws.max_row):\n",
        "    ur = ws[f\"{catalogo_c['UR']}{i}\"]\n",
        "    cargo = ws[f\"{catalogo_c['Cargo']}{i}\"]\n",
        "    rol = ws[f\"{catalogo_c['Rol']}{i}\"]\n",
        "    app = ws[f\"{catalogo_c['Aplicacion']}{i}\"]\n",
        "    perfil = ws[f\"{catalogo_c['Perfil']}{i}\"]\n",
        "\n",
        "    concat = f\"{ur.value}-{cargo.value}\"\n",
        "    if concat not in concat_dict.keys():\n",
        "      concat_dict[concat] = {rol.value: [{'Aplicacion': app.value, 'Perfil': perfil.value}]}\n",
        "    else:\n",
        "      if rol.value in concat_dict[concat].keys():\n",
        "        concat_dict[concat][rol.value].append({'Aplicacion': app.value, 'Perfil': perfil.value})\n",
        "      else:\n",
        "        concat_dict[concat][rol.value] = [{'Aplicacion': app.value, 'Perfil': perfil.value}]\n",
        "\n",
        "  return concat_dict"
      ],
      "metadata": {
        "id": "kPNv3SGSApF7"
      },
      "execution_count": 90,
      "outputs": []
    },
    {
      "cell_type": "markdown",
      "source": [
        "Se corre la función para todas las hojas, guardando el diccionario final como \"catalogo_dict\"."
      ],
      "metadata": {
        "id": "PKBhAHfRCqTO"
      }
    },
    {
      "cell_type": "code",
      "source": [
        "catalogo_dict = make_concat_dict(make_concat_dict(make_concat_dict({}, ws_c_1),ws_c_2),ws_c_3)"
      ],
      "metadata": {
        "id": "GykETuBR1xYZ"
      },
      "execution_count": 91,
      "outputs": []
    },
    {
      "cell_type": "markdown",
      "source": [
        "## Búsqueda de accesos"
      ],
      "metadata": {
        "id": "0TMo1X4TDATJ"
      }
    },
    {
      "cell_type": "markdown",
      "source": [
        "Se define una función que busca todos los accesos según un RUT dado."
      ],
      "metadata": {
        "id": "9r6xzdx-Fh2z"
      }
    },
    {
      "cell_type": "code",
      "source": [
        "def busqueda_de_accesos(rut, rut_dict, catalogo_dict):\n",
        "  roles = catalogo_dict[rut_dict[rut]]\n",
        "  for rol in roles:\n",
        "    print(f'Accesos del Rol: {rol}')\n",
        "    accesos = roles[rol]\n",
        "    for id,val in enumerate(accesos):\n",
        "      print(f\"{id+1}. Aplicación: {val['Aplicacion']}, Perfil: {val['Perfil']}\")"
      ],
      "metadata": {
        "id": "ournmqN69d8O"
      },
      "execution_count": 108,
      "outputs": []
    },
    {
      "cell_type": "markdown",
      "source": [
        "Ejemplo de esta función:"
      ],
      "metadata": {
        "id": "QRWU8QZ5Fn4b"
      }
    },
    {
      "cell_type": "code",
      "source": [
        "busqueda_de_accesos('10000005-9', rut_dict, catalogo_dict)"
      ],
      "metadata": {
        "colab": {
          "base_uri": "https://localhost:8080/"
        },
        "id": "u5jFtLjRDkOa",
        "outputId": "1f2f8cd9-5457-45c5-f939-718ce2b18efa"
      },
      "execution_count": 111,
      "outputs": [
        {
          "output_type": "stream",
          "name": "stdout",
          "text": [
            "Accesos del Rol: Rol 21\n",
            "1. Aplicación: App 10, Perfil: Perfil 3\n",
            "2. Aplicación: App 11, Perfil: Perfil 4\n",
            "3. Aplicación: App 12, Perfil: Perfil 5\n",
            "4. Aplicación: App 13, Perfil: Perfil 6\n"
          ]
        }
      ]
    }
  ]
}