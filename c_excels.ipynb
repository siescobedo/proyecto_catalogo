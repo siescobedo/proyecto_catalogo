{
  "nbformat": 4,
  "nbformat_minor": 0,
  "metadata": {
    "colab": {
      "provenance": []
    },
    "kernelspec": {
      "name": "python3",
      "display_name": "Python 3"
    },
    "language_info": {
      "name": "python"
    }
  },
  "cells": [
    {
      "cell_type": "markdown",
      "source": [
        "# Creación de excels"
      ],
      "metadata": {
        "id": "KPT6FpB5necS"
      }
    },
    {
      "cell_type": "markdown",
      "source": [
        "## Importación de librerías"
      ],
      "metadata": {
        "id": "kAI8wV_6nqDL"
      }
    },
    {
      "cell_type": "code",
      "source": [
        "import random as rd\n",
        "import openpyxl\n",
        "import csv"
      ],
      "metadata": {
        "id": "uzJfThCDkjB5"
      },
      "execution_count": 8,
      "outputs": []
    },
    {
      "cell_type": "markdown",
      "source": [
        "## Funciones auxiliares"
      ],
      "metadata": {
        "id": "3REj1B33nssB"
      }
    },
    {
      "cell_type": "markdown",
      "source": [
        "Funciones para generar RUT sacadas de [aquí](https://github.com/Mansilla1/python_rut)."
      ],
      "metadata": {
        "id": "60a2QWjgnvJX"
      }
    },
    {
      "cell_type": "code",
      "source": [
        "def write_csv(nombre_archivo, lista_data, inicio=False):\n",
        "    if inicio:\n",
        "        tipo = 'w'\n",
        "    else:\n",
        "        tipo = 'a'\n",
        "    with open(nombre_archivo, tipo) as output:\n",
        "        writer = csv.writer(output, delimiter=\";\", quotechar='|', quoting=csv.QUOTE_MINIMAL, lineterminator='\\n')\n",
        "        for i in lista_data:\n",
        "            writer.writerow([i])\n",
        "\n",
        "# obtener el dígito verificador de un rut\n",
        "def digito_verificador(rut):\n",
        "    producto = [2,3,4,5,6,7] # producto de con el cual se debe multiplicar\n",
        "    list_rut = list(map(int, str(rut))) # convertir en lista el rut\n",
        "    list_rut.reverse() # revertir los valores\n",
        "    contador = 0\n",
        "    pivote = 0\n",
        "    for i in list_rut:\n",
        "        if pivote >= len(producto): # si el pivote pasa la cantidad del largo de producto, se debe reiniciar\n",
        "            pivote = 0\n",
        "        contador = contador+(i*producto[pivote])\n",
        "        pivote += 1\n",
        "    suma_dig = 11-(contador%11) # obtener el resto menos 11 de la suma\n",
        "    # definir digito verificador\n",
        "    if suma_dig == 11:\n",
        "        verificador = 0\n",
        "    elif suma_dig == 10:\n",
        "        verificador = 'K'\n",
        "    else:\n",
        "        verificador = suma_dig\n",
        "\n",
        "    return verificador\n",
        "\n",
        "# método para generar ruts y exportar en archivo csv (opcional)\n",
        "def genera_rut(**kwargs):\n",
        "    # rut autoincremental a partir del numero indicado\n",
        "    keys = []\n",
        "    for key in kwargs.keys():\n",
        "        keys.append(key)\n",
        "    # cantidad de rut a generar\n",
        "    if not 'cantidad' in keys: # si no se especifica la cantidad, se generarán 10\n",
        "        cant_rut = 10\n",
        "    else:\n",
        "        cant_rut = int(kwargs['cantidad'])\n",
        "    # inicio del rut (es autoincremental)\n",
        "    if not 'inicio' in keys:\n",
        "        inicio = 1\n",
        "    else:\n",
        "        inicio = int(kwargs['inicio'])\n",
        "    # si se exporta o no\n",
        "    if not 'csv' in keys:\n",
        "        exportar = False\n",
        "    else:\n",
        "        exportar = kwargs['csv'] # true or false\n",
        "\n",
        "    pivot = 0\n",
        "    lista_rut = []\n",
        "    while pivot < cant_rut:\n",
        "        rut = str(inicio) + '-' + str(digito_verificador(inicio))\n",
        "        lista_rut.append(rut)\n",
        "        # autoincrementales\n",
        "        inicio += 1\n",
        "        pivot += 1\n",
        "\n",
        "    if exportar:\n",
        "        write_csv('output.csv', lista_rut, True)\n",
        "    else:\n",
        "        return lista_rut"
      ],
      "metadata": {
        "id": "4ic4OZWiDq1r"
      },
      "execution_count": 7,
      "outputs": []
    },
    {
      "cell_type": "markdown",
      "source": [
        "## Orgánica"
      ],
      "metadata": {
        "id": "zJhRogbDoSIo"
      }
    },
    {
      "cell_type": "markdown",
      "source": [
        "Creamos un libro con las columnas \"RUT\", \"UR\", \"Cargo\" y \"Concat\"."
      ],
      "metadata": {
        "id": "aItg9VbHoZMI"
      }
    },
    {
      "cell_type": "code",
      "source": [
        "wb = openpyxl.Workbook()\n",
        "hoja = wb.active\n",
        "hoja.title = \"Informe\"\n",
        "hoja.append(('RUT', 'UR', 'Cargo', 'Concat'))"
      ],
      "metadata": {
        "id": "MV82_Q02ksMA"
      },
      "execution_count": 23,
      "outputs": []
    },
    {
      "cell_type": "markdown",
      "source": [
        "Generamos *n* RUTS. Generamos las columnas requeridas para cada uno y lo guardamos en el libro. También guardamos las ur, cargos y concats para utilizar luego."
      ],
      "metadata": {
        "id": "M7BlJZBEof3g"
      }
    },
    {
      "cell_type": "code",
      "source": [
        "n = 25\n",
        "ruts = genera_rut(cantidad=n, inicio=10000000, csv=False)\n",
        "[urs, cargos, concats] = [[], [], []]\n",
        "\n",
        "for i in range(0,n):\n",
        "  ur = str(rd.randint(1000,9999))\n",
        "  cargo = str(rd.randint(10,9999))\n",
        "  concat = ur + \"-\" + cargo\n",
        "  urs.append(ur)\n",
        "  cargos.append(cargo)\n",
        "  concats.append(concat)\n",
        "  hoja.append((ruts[i], ur, cargo, concat))"
      ],
      "metadata": {
        "id": "MeHet6hRAWZ9"
      },
      "execution_count": 24,
      "outputs": []
    },
    {
      "cell_type": "markdown",
      "source": [
        "Guardamos el libro."
      ],
      "metadata": {
        "id": "Fpscnqz_pFVB"
      }
    },
    {
      "cell_type": "code",
      "source": [
        "wb.save('organica.xlsx')"
      ],
      "metadata": {
        "id": "YbZgIaHBjh6u"
      },
      "execution_count": 25,
      "outputs": []
    },
    {
      "cell_type": "markdown",
      "source": [
        "## Roles"
      ],
      "metadata": {
        "id": "BcZtkLw2pHAO"
      }
    },
    {
      "cell_type": "code",
      "source": [
        "wb2 = openpyxl.Workbook()\n",
        "hoja = wb2.active\n",
        "hoja.title = \"Informe\"\n",
        "hoja.append(('Rol', 'Aplicacion', 'Perfil', 'UR', 'Cargo', 'Concat'))"
      ],
      "metadata": {
        "id": "LLXSKDkqpsqZ"
      },
      "execution_count": 37,
      "outputs": []
    },
    {
      "cell_type": "code",
      "source": [
        "for i in range(0,n):\n",
        "  m = rd.randint(0,10)\n",
        "  [app, pf] = [rd.randint(0,10), rd.randint(0,3)]\n",
        "  for j in range(0,m):\n",
        "    hoja.append((f'Rol {i}-{j}', f'App {app+j}', f'Perfil {pf+j}', urs[i], cargos[i], concats[i]))"
      ],
      "metadata": {
        "id": "klq-pTV_pt2C"
      },
      "execution_count": 38,
      "outputs": []
    },
    {
      "cell_type": "code",
      "source": [
        "wb2.save('catalogo.xlsx')"
      ],
      "metadata": {
        "id": "SZsdjXx2s5nt"
      },
      "execution_count": 39,
      "outputs": []
    }
  ]
}