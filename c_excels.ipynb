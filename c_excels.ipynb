{
  "cells": [
    {
      "cell_type": "markdown",
      "metadata": {
        "id": "KPT6FpB5necS"
      },
      "source": [
        "# Creación de excels"
      ]
    },
    {
      "cell_type": "markdown",
      "metadata": {
        "id": "kAI8wV_6nqDL"
      },
      "source": [
        "## Importación de librerías"
      ]
    },
    {
      "cell_type": "code",
      "execution_count": 8,
      "metadata": {
        "id": "uzJfThCDkjB5"
      },
      "outputs": [],
      "source": [
        "import random as rd\n",
        "import openpyxl\n",
        "import csv"
      ]
    },
    {
      "cell_type": "markdown",
      "metadata": {
        "id": "3REj1B33nssB"
      },
      "source": [
        "## Funciones auxiliares"
      ]
    },
    {
      "cell_type": "markdown",
      "metadata": {
        "id": "60a2QWjgnvJX"
      },
      "source": [
        "Funciones para generar RUT sacadas de [aquí](https://github.com/Mansilla1/python_rut)."
      ]
    },
    {
      "cell_type": "code",
      "execution_count": 7,
      "metadata": {
        "id": "4ic4OZWiDq1r"
      },
      "outputs": [],
      "source": [
        "def write_csv(nombre_archivo, lista_data, inicio=False):\n",
        "    if inicio:\n",
        "        tipo = 'w'\n",
        "    else:\n",
        "        tipo = 'a'\n",
        "    with open(nombre_archivo, tipo) as output:\n",
        "        writer = csv.writer(output, delimiter=\";\", quotechar='|', quoting=csv.QUOTE_MINIMAL, lineterminator='\\n')\n",
        "        for i in lista_data:\n",
        "            writer.writerow([i])\n",
        "\n",
        "# obtener el dígito verificador de un rut\n",
        "def digito_verificador(rut):\n",
        "    producto = [2,3,4,5,6,7] # producto de con el cual se debe multiplicar\n",
        "    list_rut = list(map(int, str(rut))) # convertir en lista el rut\n",
        "    list_rut.reverse() # revertir los valores\n",
        "    contador = 0\n",
        "    pivote = 0\n",
        "    for i in list_rut:\n",
        "        if pivote >= len(producto): # si el pivote pasa la cantidad del largo de producto, se debe reiniciar\n",
        "            pivote = 0\n",
        "        contador = contador+(i*producto[pivote])\n",
        "        pivote += 1\n",
        "    suma_dig = 11-(contador%11) # obtener el resto menos 11 de la suma\n",
        "    # definir digito verificador\n",
        "    if suma_dig == 11:\n",
        "        verificador = 0\n",
        "    elif suma_dig == 10:\n",
        "        verificador = 'K'\n",
        "    else:\n",
        "        verificador = suma_dig\n",
        "\n",
        "    return verificador\n",
        "\n",
        "# método para generar ruts y exportar en archivo csv (opcional)\n",
        "def genera_rut(**kwargs):\n",
        "    # rut autoincremental a partir del numero indicado\n",
        "    keys = []\n",
        "    for key in kwargs.keys():\n",
        "        keys.append(key)\n",
        "    # cantidad de rut a generar\n",
        "    if not 'cantidad' in keys: # si no se especifica la cantidad, se generarán 10\n",
        "        cant_rut = 10\n",
        "    else:\n",
        "        cant_rut = int(kwargs['cantidad'])\n",
        "    # inicio del rut (es autoincremental)\n",
        "    if not 'inicio' in keys:\n",
        "        inicio = 1\n",
        "    else:\n",
        "        inicio = int(kwargs['inicio'])\n",
        "    # si se exporta o no\n",
        "    if not 'csv' in keys:\n",
        "        exportar = False\n",
        "    else:\n",
        "        exportar = kwargs['csv'] # true or false\n",
        "\n",
        "    pivot = 0\n",
        "    lista_rut = []\n",
        "    while pivot < cant_rut:\n",
        "        rut = str(inicio) + '-' + str(digito_verificador(inicio))\n",
        "        lista_rut.append(rut)\n",
        "        # autoincrementales\n",
        "        inicio += 1\n",
        "        pivot += 1\n",
        "\n",
        "    if exportar:\n",
        "        write_csv('output.csv', lista_rut, True)\n",
        "    else:\n",
        "        return lista_rut"
      ]
    },
    {
      "cell_type": "markdown",
      "metadata": {
        "id": "zJhRogbDoSIo"
      },
      "source": [
        "## Orgánica"
      ]
    },
    {
      "cell_type": "markdown",
      "metadata": {
        "id": "aItg9VbHoZMI"
      },
      "source": [
        "Creamos un libro con las columnas \"RUT\", \"UR\", \"Cargo\" y \"Concat\"."
      ]
    },
    {
      "cell_type": "code",
      "execution_count": 42,
      "metadata": {
        "id": "MV82_Q02ksMA"
      },
      "outputs": [],
      "source": [
        "wb = openpyxl.Workbook()\n",
        "hoja = wb.active\n",
        "hoja.title = \"Informe\"\n",
        "hoja.append(('RUT', 'UR', 'Cargo', 'Concat'))"
      ]
    },
    {
      "cell_type": "markdown",
      "metadata": {
        "id": "M7BlJZBEof3g"
      },
      "source": [
        "Generamos *n* RUTS. Generamos las columnas requeridas para cada uno y lo guardamos en el libro. También guardamos las concats para utilizar luego."
      ]
    },
    {
      "cell_type": "code",
      "execution_count": 43,
      "metadata": {
        "id": "MeHet6hRAWZ9"
      },
      "outputs": [],
      "source": [
        "n = 25\n",
        "ruts = genera_rut(cantidad=n, inicio=10000000, csv=False)\n",
        "concats = set()\n",
        "\n",
        "for i in range(0,n):\n",
        "  ur = str(rd.randint(1000,9999))\n",
        "  cargo = str(rd.randint(10,9999))\n",
        "  concat = ur + \"-\" + cargo\n",
        "  concats.add(concat)\n",
        "  hoja.append((ruts[i], ur, cargo, concat))"
      ]
    },
    {
      "cell_type": "markdown",
      "metadata": {
        "id": "Fpscnqz_pFVB"
      },
      "source": [
        "Guardamos el libro."
      ]
    },
    {
      "cell_type": "code",
      "execution_count": 44,
      "metadata": {
        "id": "YbZgIaHBjh6u"
      },
      "outputs": [],
      "source": [
        "wb.save('organica.xlsx')"
      ]
    },
    {
      "cell_type": "markdown",
      "metadata": {
        "id": "BcZtkLw2pHAO"
      },
      "source": [
        "## Roles"
      ]
    },
    {
      "cell_type": "markdown",
      "metadata": {
        "id": "hzibI_qky8rR"
      },
      "source": [
        "Creamos un libro con las columnas \"Rol\", \"Aplicación\", \"Perfil\", \"UR\", \"Cargo\" y \"Concat\"."
      ]
    },
    {
      "cell_type": "code",
      "execution_count": 51,
      "metadata": {
        "id": "LLXSKDkqpsqZ"
      },
      "outputs": [],
      "source": [
        "wb2 = openpyxl.Workbook()\n",
        "hoja = wb2.active\n",
        "hoja.title = \"Informe\"\n",
        "hoja.append(('Rol', 'Aplicacion', 'Perfil', 'UR', 'Cargo', 'Concat'))"
      ]
    },
    {
      "cell_type": "markdown",
      "metadata": {
        "id": "Xd2zQM19y9hu"
      },
      "source": [
        "Para cada concatenación distinta, se creará un número aleatorio de accesos *m*. Por cada acceso se agrega una fila con las columnas requeridas."
      ]
    },
    {
      "cell_type": "code",
      "execution_count": 52,
      "metadata": {
        "id": "klq-pTV_pt2C"
      },
      "outputs": [],
      "source": [
        "for id,val in enumerate(concats):\n",
        "  ur, cargo = val.split('-')\n",
        "  m = rd.randint(0,10)\n",
        "  [app, pf] = [rd.randint(0,10), rd.randint(0,3)]\n",
        "  for j in range(0,m):\n",
        "    hoja.append((f'Rol {id}', f'App {app+j}', f'Perfil {pf+j}', ur, cargo, val))"
      ]
    },
    {
      "cell_type": "markdown",
      "metadata": {
        "id": "392UVYllz5xx"
      },
      "source": [
        "Guardamos el libro."
      ]
    },
    {
      "cell_type": "code",
      "execution_count": 53,
      "metadata": {
        "id": "SZsdjXx2s5nt"
      },
      "outputs": [],
      "source": [
        "wb2.save('catalogo.xlsx')"
      ]
    }
  ],
  "metadata": {
    "colab": {
      "provenance": []
    },
    "kernelspec": {
      "display_name": "Python 3",
      "name": "python3"
    },
    "language_info": {
      "name": "python"
    }
  },
  "nbformat": 4,
  "nbformat_minor": 0
}
